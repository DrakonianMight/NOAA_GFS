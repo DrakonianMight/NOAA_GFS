{
 "cells": [
  {
   "cell_type": "markdown",
   "metadata": {},
   "source": [
    "# Exploring NOAA's GFS model data"
   ]
  },
  {
   "cell_type": "markdown",
   "metadata": {},
   "source": [
    "**Author:** Leo Peach\n",
    "\n",
    "**Date:** 04-02-2019\n",
    "\n",
    "**Purpose:** Explore downloading and visualising NOAA GFS model data"
   ]
  },
  {
   "cell_type": "code",
   "execution_count": 5,
   "metadata": {},
   "outputs": [],
   "source": [
    "import numpy as np\n",
    "import netCDF4\n",
    "import matplotlib.pyplot as plt\n",
    "from mpl_toolkits.basemap import Basemap\n",
    "import matplotlib.animation as animation\n",
    "import datetime as dt\n",
    "import io\n",
    "import os\n",
    "from PIL import Image\n",
    "import pandas as pd\n",
    "import requests"
   ]
  },
  {
   "cell_type": "code",
   "execution_count": 12,
   "metadata": {},
   "outputs": [],
   "source": [
    "def build_urls():\n",
    "    prevdate = dt.datetime.strftime(dt.datetime.utcnow() - dt.timedelta(days=1), \"%Y%m%d\")\n",
    "    date = dt.datetime.strftime(dt.datetime.utcnow(), \"%Y%m%d\")\n",
    "    baseurl = 'http://nomads.ncep.noaa.gov:9090/dods/gfs_0p25/gfs'\n",
    "    runs = ['00','06','12','18']\n",
    "    name = \"\"\"/gfs_0p25_\"\"\"\n",
    "    \n",
    "    yesterdays = []\n",
    "    todays = []\n",
    "    for t in runs:\n",
    "        if (dt.datetime.utcnow().hour - 6) > int(t):\n",
    "            todays.append(t)\n",
    "        else:\n",
    "            yesterdays.append(t)\n",
    "    \n",
    "    urls = []\n",
    "    for r in yesterdays:\n",
    "        urls.append(baseurl+prevdate+name+str(r)+'z')\n",
    "    for r in todays:\n",
    "        urls.append(baseurl+date+name+str(r)+'z')\n",
    "    return urls"
   ]
  },
  {
   "cell_type": "code",
   "execution_count": 13,
   "metadata": {},
   "outputs": [
    {
     "data": {
      "text/plain": [
       "['http://nomads.ncep.noaa.gov:9090/dods/gfs_0p25/gfs20190203/gfs_0p25_06z',\n",
       " 'http://nomads.ncep.noaa.gov:9090/dods/gfs_0p25/gfs20190203/gfs_0p25_12z',\n",
       " 'http://nomads.ncep.noaa.gov:9090/dods/gfs_0p25/gfs20190203/gfs_0p25_18z',\n",
       " 'http://nomads.ncep.noaa.gov:9090/dods/gfs_0p25/gfs20190204/gfs_0p25_00z']"
      ]
     },
     "execution_count": 13,
     "metadata": {},
     "output_type": "execute_result"
    }
   ],
   "source": [
    "build_urls()"
   ]
  },
  {
   "cell_type": "code",
   "execution_count": 14,
   "metadata": {},
   "outputs": [],
   "source": [
    "fh = netCDF4.Dataset(build_urls()[-1], 'r')"
   ]
  },
  {
   "cell_type": "code",
   "execution_count": null,
   "metadata": {},
   "outputs": [],
   "source": [
    "mslp = fh.variables['prmslmsl'][:]\n",
    "lons = fh.variables['lon'][:]\n",
    "lats = fh.variables['lat'][:]\n",
    "time = fh.variables['time'][:]\n",
    "pressfc = fh.variables['pressfc'][:]\n",
    "tmpsfc = fh.variables['tmpsfc'][:]\n",
    "vgrd10m = fh.variables['vgrd10m'][:]\n",
    "ugrd10m = fh.variables['ugrd10m'][:]\n",
    "\n",
    "fh.close()"
   ]
  },
  {
   "cell_type": "code",
   "execution_count": null,
   "metadata": {},
   "outputs": [],
   "source": [
    "lons"
   ]
  },
  {
   "cell_type": "code",
   "execution_count": null,
   "metadata": {},
   "outputs": [],
   "source": []
  }
 ],
 "metadata": {
  "kernelspec": {
   "display_name": "Python 3",
   "language": "python",
   "name": "python3"
  },
  "language_info": {
   "codemirror_mode": {
    "name": "ipython",
    "version": 3
   },
   "file_extension": ".py",
   "mimetype": "text/x-python",
   "name": "python",
   "nbconvert_exporter": "python",
   "pygments_lexer": "ipython3",
   "version": "3.6.7"
  }
 },
 "nbformat": 4,
 "nbformat_minor": 2
}
